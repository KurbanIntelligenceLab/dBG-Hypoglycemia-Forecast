{
 "cells": [
  {
   "cell_type": "markdown",
   "source": [
    "Load and parse the Dataset (Run this first!)\n",
    "\n",
    "Update the directory which contains all xlsx files"
   ],
   "metadata": {
    "collapsed": false
   }
  },
  {
   "cell_type": "code",
   "execution_count": null,
   "metadata": {
    "collapsed": true
   },
   "outputs": [],
   "source": [
    "import pandas as pd\n",
    "\n",
    "from ParseData import parse_dataset\n",
    "from utils.PropertyNames import ColumnNames as Cols\n",
    "\n",
    "patient_data = parse_dataset(\"/home/lumpus/Documents/deBruijnData/Diabetes/\", silent=False)\n",
    "patients = patient_data[Cols.patient].unique()\n"
   ]
  },
  {
   "cell_type": "markdown",
   "source": [
    "Filter prune benchmark Test"
   ],
   "metadata": {
    "collapsed": false
   }
  },
  {
   "cell_type": "code",
   "execution_count": null,
   "outputs": [],
   "source": [
    "from utils.PropertyNames import MethodOptions as Opts\n",
    "from Benchmark import benchmark\n",
    "\n",
    "params = {\n",
    "    \"k\": 5,\n",
    "    \"risky_chars\": {0, 1},\n",
    "    \"risk_threshold\": 0.2,\n",
    "    \"prune\": True,\n",
    "    \"prune_method\": Opts.filter,\n",
    "    \"prune_threshold\": 1,\n",
    "    \"weight_thresholds\": [1, 3, 8],\n",
    "    \"value_ranges\": [(0, 2), (2, 3), (3, float('inf'))],\n",
    "    \"max_steps\": 6,\n",
    "    \"naive_threshold\": 15\n",
    "}\n",
    "\n",
    "excluded = patients.copy().tolist()\n",
    "\n",
    "excluded.remove('P17')\n",
    "excluded.remove('P26')\n",
    "\n",
    "benchmark(patient_data[patient_data[Cols.patient].isin(excluded)].copy(), start_time_range_hours=0, end_time_range_hours=1, **params)\n"
   ],
   "metadata": {
    "collapsed": false
   }
  },
  {
   "cell_type": "markdown",
   "source": [
    "Adaptive prune benchmark Test"
   ],
   "metadata": {
    "collapsed": false
   }
  },
  {
   "cell_type": "code",
   "execution_count": null,
   "outputs": [],
   "source": [
    "from utils.PropertyNames import MethodOptions as Opts\n",
    "from Benchmark import benchmark\n",
    "\n",
    "\n",
    "params = {\n",
    "    \"k\": 6,\n",
    "    \"risky_chars\": {0, 1},\n",
    "    \"risk_threshold\": 0.2,\n",
    "    \"prune\": True,\n",
    "    \"prune_method\": Opts.adaptive,\n",
    "    \"prune_threshold\": 1,\n",
    "    \"weight_thresholds\": [1, 4, 10],\n",
    "    \"value_ranges\": [(0, 2), (2, 3), (3, float('inf'))],\n",
    "    \"max_steps\": 6,\n",
    "    \"naive_threshold\": 15\n",
    "}\n",
    "excluded = patients.copy().tolist()\n",
    "\n",
    "# excluded.remove('P11')\n",
    "# excluded.remove('P26')\n",
    "pd.set_option('display.float_format', '{:.4f}'.format)\n",
    "\n",
    "benchmark(patient_data[patient_data[Cols.patient].isin(excluded)].copy(), start_time_range_hours=0, end_time_range_hours=1, **params)"
   ],
   "metadata": {
    "collapsed": false
   }
  },
  {
   "cell_type": "markdown",
   "source": [
    "Adaptive prune benchmark Test on 2 patients"
   ],
   "metadata": {
    "collapsed": false
   }
  },
  {
   "cell_type": "markdown",
   "source": [
    "Plot Probability Distribution"
   ],
   "metadata": {
    "collapsed": false
   }
  },
  {
   "cell_type": "code",
   "execution_count": null,
   "outputs": [],
   "source": [
    "from utils.VisualizationUtils import draw_histogram\n",
    "from deBruijn.ProbabilityGraph import ProbabilityGraph\n",
    "from utils.PropertyNames import MethodOptions as Opts\n",
    "from utils.PropertyNames import ColumnNames as Cols\n",
    "\n",
    "k = 4\n",
    "risky_chars: None\n",
    "params = {\n",
    "    \"prune\": False,\n",
    "    \"prune_method\": Opts.filter,\n",
    "    \"prune_threshold\": 3,\n",
    "    \"max_steps\": 3,\n",
    "}\n",
    "\n",
    "sequences = []\n",
    "for p in patients:\n",
    "    float_seq = patient_data[patient_data[Cols.patient] == p]\n",
    "    float_seq = float_seq.sort_values(Cols.date, ascending=True)[Cols.char]\n",
    "    sequences.append(float_seq)\n",
    "\n",
    "probability_graph = ProbabilityGraph(sequences=sequences, k=k)\n",
    "\n",
    "print(f\"Resulting graph: {probability_graph}\")\n",
    "\n",
    "probability_model = probability_graph.get_probability_model(**params)\n",
    "\n",
    "draw_histogram(list(probability_model.probability_dict.values()), \"Node Probability Distribution\", \"Probability\",\n",
    "               \"Count\", bins=20)\n"
   ],
   "metadata": {
    "collapsed": false
   }
  },
  {
   "cell_type": "markdown",
   "source": [
    "Plot Timeline of the target (ideal model) for every point. Alerted datapoints are marked as red"
   ],
   "metadata": {
    "collapsed": false
   }
  },
  {
   "cell_type": "code",
   "execution_count": null,
   "outputs": [],
   "source": [
    "from utils.VisualizationUtils import draw_timeline\n",
    "from utils.PropertyNames import ColumnNames as Cols\n",
    "from utils.PropertyNames import MethodOptions as Opts\n",
    "\n",
    "from Benchmark import add_target_column\n",
    "\n",
    "naive_threshold = 20\n",
    "params = {\n",
    "    \"k\": 4,\n",
    "    \"risky_chars\": None,\n",
    "    \"risk_threshold\": 0.5,\n",
    "    \"prune\": True,\n",
    "    \"prune_method\": Opts.filter,\n",
    "    \"prune_threshold\": 3,\n",
    "    \"max_steps\": 3,\n",
    "}\n",
    "\n",
    "# Pick an alert model here\n",
    "alert_to_plot = Cols.target\n",
    "\n",
    "patient_data_with_alerts = add_target_column(patient_data)\n",
    "\n",
    "for p in patients:\n",
    "    draw_timeline(\n",
    "        patient_data_with_alerts[patient_data_with_alerts[Cols.patient] == p].sort_values(Cols.date, ascending=True), p,\n",
    "        alert_to_plot, include_already_dangerous=False)"
   ],
   "metadata": {
    "collapsed": false
   }
  },
  {
   "cell_type": "markdown",
   "source": [
    "Draw timeline of one of our models"
   ],
   "metadata": {
    "collapsed": false
   }
  },
  {
   "cell_type": "code",
   "execution_count": null,
   "outputs": [],
   "source": [
    "from utils.VisualizationUtils import draw_timeline\n",
    "from utils.PropertyNames import ColumnNames as Cols\n",
    "from utils.PropertyNames import MethodOptions as Opts\n",
    "\n",
    "from Benchmark import add_alerts, add_target_column\n",
    "\n",
    "naive_threshold = 15\n",
    "\n",
    "\n",
    "params = {\n",
    "    \"k\": 6,\n",
    "    \"risky_chars\": {0, 1},\n",
    "    \"risk_threshold\": 0.2,\n",
    "    \"prune\": True,\n",
    "    \"prune_method\": Opts.adaptive,\n",
    "    \"prune_threshold\": 1,\n",
    "    \"weight_thresholds\": [1, 4, 10],\n",
    "    \"value_ranges\": [(0, 2), (2, 3), (3, float('inf'))],\n",
    "    \"max_steps\": 6,\n",
    "}\n",
    "\n",
    "# Pick an alert model here\n",
    "alert_to_plot = Cols.combined_alert_and\n",
    "\n",
    "patient_data_with_alerts = add_target_column(patient_data)\n",
    "patient_data_with_alerts = add_alerts(patient_data_with_alerts, naive_threshold, **params)\n",
    "\n",
    "print(patient_data_with_alerts[\n",
    "    (patient_data_with_alerts[Cols.patient] == 'P20')\n",
    "    & (patient_data_with_alerts[Cols.isDangerous] == False)\n",
    "    & (patient_data_with_alerts[Cols.target] == True)\n",
    "    & (patient_data_with_alerts[Cols.combined_alert_and] == False)\n",
    "])\n",
    "\n",
    "excluded = patients.copy().tolist()\n",
    "\n",
    "for p in ['P21']:\n",
    "    draw_timeline(\n",
    "        patient_data_with_alerts[patient_data_with_alerts[Cols.patient] == p].sort_values(Cols.date, ascending=True), p,\n",
    "         Cols.prob_alert, include_already_dangerous=False)\n",
    "    draw_timeline(\n",
    "        patient_data_with_alerts[patient_data_with_alerts[Cols.patient] == p].sort_values(Cols.date, ascending=True), p,\n",
    "         Cols.combined_alert_and, include_already_dangerous=False)\n"
   ],
   "metadata": {
    "collapsed": false
   }
  },
  {
   "cell_type": "code",
   "execution_count": null,
   "outputs": [],
   "source": [
    "from utils.PropertyNames import ColumnNames as Cols\n",
    "from utils.PropertyNames import MethodOptions as Opts\n",
    "\n",
    "from Benchmark import add_alerts, add_target_column\n",
    "\n",
    "naive_threshold = 15\n",
    "\n",
    "\n",
    "params = {\n",
    "    \"k\": 6,\n",
    "    \"risky_chars\": {0, 1},\n",
    "    \"risk_threshold\": 0.2,\n",
    "    \"prune\": True,\n",
    "    \"prune_method\": Opts.adaptive,\n",
    "    \"prune_threshold\": 1,\n",
    "    \"weight_thresholds\": [1, 4, 10],\n",
    "    \"value_ranges\": [(0, 2), (2, 3), (3, float('inf'))],\n",
    "    \"max_steps\": 6,\n",
    "}\n",
    "\n",
    "patient_data_with_alerts = add_target_column(patient_data)\n",
    "patient_data_with_alerts = add_alerts(patient_data_with_alerts, naive_threshold, **params)\n",
    "\n",
    "excluded = patients.copy().tolist()\n",
    "# excluded.remove('P17')\n",
    "# excluded.remove('P26')\n"
   ],
   "metadata": {
    "collapsed": false
   }
  },
  {
   "cell_type": "code",
   "execution_count": null,
   "outputs": [],
   "source": [
    "from Benchmark import calculate_metrics\n",
    "\n",
    "metrics = list()\n",
    "\n",
    "\n",
    "pd.set_option('display.float_format', '{:.4f}'.format)\n",
    "\n",
    "\n",
    "for p in patients:\n",
    "    data_patient = patient_data_with_alerts[patient_data_with_alerts[Cols.patient] == p].copy()\n",
    "    metric = calculate_metrics(data_patient, Cols.combined_alert_and)\n",
    "    metric['Patient'] = p\n",
    "    del metric['Accuracy']\n",
    "    print(p)\n",
    "    display(metric['Confusion Matrix'])\n",
    "    del metric['Confusion Matrix']\n",
    "    values_under_70 = data_patient[data_patient['Value'] < 70]\n",
    "    percentage_under_70 = (len(values_under_70) / len(data_patient)) * 100\n",
    "    metric['% Hypo'] = percentage_under_70\n",
    "    metrics.append(metric)\n",
    "\n",
    "df  = pd.DataFrame(metrics)\n",
    "df_sorted = df.sort_values(by='Balanced Accuracy', ascending=False)\n",
    "display(df_sorted)"
   ],
   "metadata": {
    "collapsed": false
   }
  },
  {
   "cell_type": "code",
   "execution_count": null,
   "outputs": [],
   "source": [
    "import numpy as np\n",
    "\n",
    "no_warning = 0\n",
    "gave_warning = 0\n",
    "\n",
    "for p in excluded:\n",
    "    df = patient_data[patient_data[Cols.patient] == p].copy()\n",
    "    df = df.dropna(subset=[Cols.target, Cols.naive_alert, Cols.prob_alert, Cols.combined_alert_and, Cols.combined_alert_or])\n",
    "    crossed_70 = (df[Cols.value] < 70) & (df[Cols.value].shift(1) >= 70)\n",
    "    alert_true = df[Cols.combined_alert_and].shift(1).astype(bool)\n",
    "    target_true = df[Cols.target].shift(1).astype(bool)\n",
    "\n",
    "    gave_warning += np.sum(crossed_70 & alert_true & target_true)\n",
    "    no_warning += np.sum(crossed_70 & ~alert_true & target_true)\n",
    "\n",
    "\n",
    "print('gave_warning:', gave_warning)\n",
    "print('no_warning:', no_warning)\n",
    "print(gave_warning/(gave_warning+no_warning))\n"
   ],
   "metadata": {
    "collapsed": false
   }
  },
  {
   "cell_type": "code",
   "execution_count": null,
   "outputs": [],
   "source": [
    "from utils.VisualizationUtils import draw_histogram\n",
    "\n",
    "time_diff_list = []\n",
    "\n",
    "for p in excluded:\n",
    "    df = patient_data[patient_data[Cols.patient] == p].copy().sort_values(Cols.date, ascending=True).reset_index(drop=True)\n",
    "    df = df.dropna(subset=[Cols.target, Cols.naive_alert, Cols.prob_alert, Cols.combined_alert_and, Cols.combined_alert_or]).reset_index(drop=True)  # Reset index after dropna\n",
    "    crossed_70 = (df[Cols.value] < 70) & (df[Cols.value].shift(1) >= 70)\n",
    "\n",
    "    for i in range(1, len(df)):\n",
    "        # Check if value crosses below 70\n",
    "        if crossed_70[i]:\n",
    "            start_time = df.loc[i, Cols.date]\n",
    "            # Iterate backwards to find the earliest point where both alert and target are true\n",
    "            for j in range(i-2, -1, -1):\n",
    "                # Ignore point if value goes under 70 again\n",
    "                if df.loc[j, Cols.value] < 70:\n",
    "                    break\n",
    "                # Check if both target and alert are true\n",
    "                elif bool(df.loc[1, Cols.combined_alert_and]) is False:\n",
    "                    end_time = df.loc[j, Cols.date]\n",
    "                    time_diff = start_time - end_time\n",
    "                    time_diff_list.append(time_diff)\n",
    "                    break  # Found the required point, no need to check further\n",
    "\n",
    "# Convert list of timedelta objects to desired format (e.g., total seconds)\n",
    "time_diff_seconds = [td.total_seconds() for td in time_diff_list]\n",
    "time_diff_minutes = [td / 60 for td in time_diff_seconds]\n",
    "time_diff_minutes = [x for x in time_diff_minutes if x <= 60]\n",
    "\n",
    "print(time_diff_minutes)\n",
    "draw_histogram(time_diff_minutes, 'Forecast Time Distribution of the Model', 'Minutes', 'Count', bins=7\n",
    "            , color='#0000FF', edgecolor='black')"
   ],
   "metadata": {
    "collapsed": false
   }
  },
  {
   "cell_type": "code",
   "execution_count": null,
   "outputs": [],
   "source": [
    "from utils.PropertyNames import ColumnNames as Cols\n",
    "\n",
    "patient_data[Cols.patient].value_counts()\n",
    "\n",
    "print(len(patient_data))"
   ],
   "metadata": {
    "collapsed": false
   }
  },
  {
   "cell_type": "code",
   "execution_count": null,
   "outputs": [],
   "source": [
    "values_under_70 = patient_data[patient_data['Value'] < 70]\n",
    "percentage_under_70 = (len(values_under_70) / len(patient_data)) * 100\n",
    "print(percentage_under_70)"
   ],
   "metadata": {
    "collapsed": false
   }
  }
 ],
 "metadata": {
  "kernelspec": {
   "display_name": "Python 3",
   "language": "python",
   "name": "python3"
  },
  "language_info": {
   "codemirror_mode": {
    "name": "ipython",
    "version": 2
   },
   "file_extension": ".py",
   "mimetype": "text/x-python",
   "name": "python",
   "nbconvert_exporter": "python",
   "pygments_lexer": "ipython2",
   "version": "2.7.6"
  }
 },
 "nbformat": 4,
 "nbformat_minor": 0
}
