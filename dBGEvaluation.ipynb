{
 "cells": [
  {
   "cell_type": "markdown",
   "source": [
    "Load and parse the Dataset (Run this first!)\n",
    "\n",
    "Update the directory which contains all xlsx files"
   ],
   "metadata": {
    "collapsed": false
   }
  },
  {
   "cell_type": "code",
   "execution_count": null,
   "metadata": {
    "collapsed": true
   },
   "outputs": [],
   "source": [
    "from ParseData import parse_dataset\n",
    "from utils.PropertyNames import ColumnNames as Cols\n",
    "\n",
    "patient_data = parse_dataset(\"/home/lumpus/Documents/deBruijnData/Diabetes/\", silent=False)\n",
    "patients = patient_data[Cols.patient].unique()\n"
   ]
  },
  {
   "cell_type": "markdown",
   "source": [
    "Filter prune benchmark Test"
   ],
   "metadata": {
    "collapsed": false
   }
  },
  {
   "cell_type": "code",
   "execution_count": null,
   "outputs": [],
   "source": [
    "from utils.PropertyNames import MethodOptions as Opts\n",
    "from Benchmark import benchmark\n",
    "\n",
    "params = {\n",
    "    \"k\": 5,\n",
    "    \"risky_chars\": None,\n",
    "    \"risk_threshold\": 0.2,\n",
    "    \"prune\": True,\n",
    "    \"prune_method\": Opts.filter,\n",
    "    \"prune_threshold\": 3,\n",
    "    \"max_steps\": 3,\n",
    "    \"naive_threshold\": 30,\n",
    "}\n",
    "benchmark(patient_data, start_time_range_hours=0, end_time_range_hours=1, **params)\n"
   ],
   "metadata": {
    "collapsed": false
   }
  },
  {
   "cell_type": "markdown",
   "source": [
    "Adaptive prune benchmark Test"
   ],
   "metadata": {
    "collapsed": false
   }
  },
  {
   "cell_type": "code",
   "execution_count": null,
   "outputs": [],
   "source": [
    "from utils.PropertyNames import MethodOptions as Opts\n",
    "from Benchmark import benchmark\n",
    "\n",
    "params = {\n",
    "    \"k\": 5,\n",
    "    \"risky_chars\": None,\n",
    "    \"risk_threshold\": 0.3,\n",
    "    \"prune\": True,\n",
    "    \"prune_method\": Opts.adaptive,\n",
    "    \"prune_threshold\": 1,\n",
    "    \"weight_thresholds\" : [1, 2, 5],\n",
    "    \"value_ranges\": [(0, 1), (1, 2), (2, float('inf'))],\n",
    "    \"max_steps\": 3,\n",
    "    \"naive_threshold\": 30,\n",
    "}\n",
    "\n",
    "benchmark(patient_data, start_time_range_hours=0, end_time_range_hours=1, **params)"
   ],
   "metadata": {
    "collapsed": false
   }
  },
  {
   "cell_type": "markdown",
   "source": [
    "Plot Probability Distribution"
   ],
   "metadata": {
    "collapsed": false
   }
  },
  {
   "cell_type": "code",
   "execution_count": null,
   "outputs": [],
   "source": [
    "from utils.VisualizationUtils import draw_histogram\n",
    "from deBruijn.ProbabilityGraph import ProbabilityGraph\n",
    "from utils.PropertyNames import MethodOptions as Opts\n",
    "from utils.PropertyNames import ColumnNames as Cols\n",
    "\n",
    "k = 4\n",
    "risky_chars: None\n",
    "params = {\n",
    "    \"prune\": False,\n",
    "    \"prune_method\": Opts.filter,\n",
    "    \"prune_threshold\": 3,\n",
    "    \"max_steps\": 3,\n",
    "}\n",
    "\n",
    "sequences = []\n",
    "for p in patients:\n",
    "    float_seq = patient_data[patient_data[Cols.patient] == p]\n",
    "    float_seq = float_seq.sort_values(Cols.date, ascending=True)[Cols.char]\n",
    "    sequences.append(float_seq)\n",
    "\n",
    "probability_graph = ProbabilityGraph(sequences=sequences, k=k)\n",
    "\n",
    "print(f\"Resulting graph: {probability_graph}\")\n",
    "\n",
    "probability_model = probability_graph.get_probability_model(**params)\n",
    "\n",
    "draw_histogram(list(probability_model.probability_dict.values()), \"Node Probability Distribution\", \"Probability\",\n",
    "               \"Count\", bins=20)\n"
   ],
   "metadata": {
    "collapsed": false
   }
  },
  {
   "cell_type": "markdown",
   "source": [
    "Plot Timeline of the target (ideal model) for every point. Alerted datapoints are marked as red"
   ],
   "metadata": {
    "collapsed": false
   }
  },
  {
   "cell_type": "code",
   "execution_count": null,
   "outputs": [],
   "source": [
    "from utils.VisualizationUtils import draw_timeline\n",
    "from utils.PropertyNames import ColumnNames as Cols\n",
    "\n",
    "from Benchmark import add_target_column\n",
    "\n",
    "naive_threshold = 20\n",
    "params = {\n",
    "    \"k\": 4,\n",
    "    \"risky_chars\": None,\n",
    "    \"risk_threshold\": 0.5,\n",
    "    \"prune\": True,\n",
    "    \"prune_method\": Opts.filter,\n",
    "    \"prune_threshold\": 3,\n",
    "    \"max_steps\": 3,\n",
    "}\n",
    "\n",
    "# Pick an alert model here\n",
    "alert_to_plot = Cols.target\n",
    "\n",
    "patient_data_with_alerts = add_target_column(patient_data)\n",
    "\n",
    "for p in patients:\n",
    "        draw_timeline(patient_data_with_alerts[patient_data_with_alerts[Cols.patient] == p].sort_values(Cols.date, ascending=True), p, alert_to_plot)"
   ],
   "metadata": {
    "collapsed": false
   }
  },
  {
   "cell_type": "markdown",
   "source": [
    "Draw timeline of one of our models"
   ],
   "metadata": {
    "collapsed": false
   }
  },
  {
   "cell_type": "code",
   "execution_count": null,
   "outputs": [],
   "source": [
    "from utils.VisualizationUtils import draw_timeline\n",
    "from utils.PropertyNames import ColumnNames as Cols\n",
    "\n",
    "from Benchmark import add_alerts\n",
    "\n",
    "naive_threshold = 20\n",
    "params = {\n",
    "    \"k\": 5,\n",
    "    \"risky_chars\": None,\n",
    "    \"risk_threshold\": 0.3,\n",
    "    \"prune\": True,\n",
    "    \"prune_method\": Opts.adaptive,\n",
    "    \"prune_threshold\": 1,\n",
    "    \"weight_thresholds\" : [1, 2, 5],\n",
    "    \"value_ranges\": [(0, 1), (1, 2), (2, float('inf'))],\n",
    "    \"max_steps\": 3,\n",
    "}\n",
    "\n",
    "\n",
    "# Pick an alert model here\n",
    "alert_to_plot = Cols.prob_alert\n",
    "\n",
    "patient_data_with_alerts = add_alerts(patient_data, naive_threshold, **params)\n",
    "\n",
    "for p in patients:\n",
    "        draw_timeline(patient_data_with_alerts[patient_data_with_alerts[Cols.patient] == p].sort_values(Cols.date, ascending=True), p, alert_to_plot)\n",
    "\n"
   ],
   "metadata": {
    "collapsed": false
   }
  },
  {
   "cell_type": "code",
   "execution_count": null,
   "outputs": [],
   "source": [],
   "metadata": {
    "collapsed": false
   }
  }
 ],
 "metadata": {
  "kernelspec": {
   "display_name": "Python 3",
   "language": "python",
   "name": "python3"
  },
  "language_info": {
   "codemirror_mode": {
    "name": "ipython",
    "version": 2
   },
   "file_extension": ".py",
   "mimetype": "text/x-python",
   "name": "python",
   "nbconvert_exporter": "python",
   "pygments_lexer": "ipython2",
   "version": "2.7.6"
  }
 },
 "nbformat": 4,
 "nbformat_minor": 0
}
